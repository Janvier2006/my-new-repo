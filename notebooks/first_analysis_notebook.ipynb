{
 "cells": [
  {
   "cell_type": "code",
   "execution_count": null,
   "id": "4611b4e6",
   "metadata": {},
   "outputs": [],
   "source": [
    "# First Analysis Notebook\n",
    "\n",
    "# This is your starter notebook for data science!\n",
    "\n",
    "# Step 1: Import libraries\n",
    "import pandas as pd\n",
    "import numpy as np\n",
    "import matplotlib.pyplot as plt\n",
    "\n",
    "# Step 2: Display a welcome message\n",
    "print(\"Welcome to your data science project notebook!\")\n",
    "\n",
    "# Step 3: Create some sample data\n",
    "data = pd.DataFrame({\n",
    "    'x': np.arange(1, 6),\n",
    "    'y': np.random.randint(10, 100, 5)\n",
    "})\n",
    "\n",
    "print(\"\\nSample data:\")\n",
    "print(data)\n",
    "\n",
    "# Step 4: Plot the sample data\n",
    "plt.figure(figsize=(6,4))\n",
    "plt.plot(data['x'], data['y'], marker='o')\n",
    "plt.title(\"Sample Data Plot\")\n",
    "plt.xlabel(\"X values\")\n",
    "plt.ylabel(\"Y values\")\n",
    "plt.show()\n"
   ]
  }
 ],
 "metadata": {},
 "nbformat": 4,
 "nbformat_minor": 5
}
